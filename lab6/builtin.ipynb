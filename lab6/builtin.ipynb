{
 "cells": [
  {
   "cell_type": "code",
   "execution_count": 2,
   "metadata": {},
   "outputs": [
    {
     "name": "stdout",
     "output_type": "stream",
     "text": [
      "120\n"
     ]
    }
   ],
   "source": [
    "import math\n",
    "def x():\n",
    " lists=list(map(int,input().split()))\n",
    " res=math.prod(lists)\n",
    " print(res)\n",
    "x()"
   ]
  },
  {
   "cell_type": "code",
   "execution_count": 13,
   "metadata": {},
   "outputs": [
    {
     "name": "stdout",
     "output_type": "stream",
     "text": [
      "uppercase 2, lowercase  3\n"
     ]
    }
   ],
   "source": [
    "def cnt():\n",
    "    word=input()\n",
    "    char_u={}\n",
    "    char_l={}\n",
    "    for char in word:\n",
    "      if char.isupper():\n",
    "         if char in char_u:\n",
    "            char_u[char]+=1\n",
    "         else:\n",
    "            char_u[char]=1\n",
    "      elif char.islower():\n",
    "         if char in char_l:\n",
    "            char_l[char]+=1\n",
    "         else:\n",
    "            char_l[char]=1    \n",
    "    print(f\"uppercase {sum(char_u.values())}, lowercase  {sum(char_l.values())}\")\n",
    "\n",
    "cnt()\n",
    "     \n"
   ]
  },
  {
   "cell_type": "code",
   "execution_count": null,
   "metadata": {},
   "outputs": [
    {
     "name": "stdout",
     "output_type": "stream",
     "text": [
      "it is palindrome llooll\n"
     ]
    }
   ],
   "source": [
    "def p():\n",
    "    word=input()\n",
    "    if word==word[::-1]:\n",
    "        print(F\"it is palindrome {word}\")\n",
    "    else:\n",
    "        print(\"its not a palindrome\")\n",
    "p()\n"
   ]
  },
  {
   "cell_type": "code",
   "execution_count": 24,
   "metadata": {},
   "outputs": [
    {
     "name": "stdout",
     "output_type": "stream",
     "text": [
      "158.42979517754858\n"
     ]
    }
   ],
   "source": [
    "import time\n",
    "import math\n",
    "def sq():\n",
    "    num=float(input(\"enter the num:\"))\n",
    "    mili=float(input(\"enter the milliseconds:\"))\n",
    "    sec=mili/1000.0\n",
    "    time.sleep(sec)\n",
    "    res=math.sqrt(num)\n",
    "    print(res)\n",
    "sq()\n"
   ]
  },
  {
   "cell_type": "code",
   "execution_count": 26,
   "metadata": {},
   "outputs": [
    {
     "name": "stdout",
     "output_type": "stream",
     "text": [
      "False\n",
      "False\n"
     ]
    }
   ],
   "source": [
    "mtuple=(True,False,False)\n",
    "mtuple2=(True,False,True)\n",
    "print(all(mtuple))\n",
    "print(all(mtuple2))"
   ]
  }
 ],
 "metadata": {
  "kernelspec": {
   "display_name": "Python 3",
   "language": "python",
   "name": "python3"
  },
  "language_info": {
   "codemirror_mode": {
    "name": "ipython",
    "version": 3
   },
   "file_extension": ".py",
   "mimetype": "text/x-python",
   "name": "python",
   "nbconvert_exporter": "python",
   "pygments_lexer": "ipython3",
   "version": "3.11.9"
  }
 },
 "nbformat": 4,
 "nbformat_minor": 2
}
