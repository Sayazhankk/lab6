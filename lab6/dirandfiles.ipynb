{
 "cells": [
  {
   "cell_type": "code",
   "execution_count": 5,
   "metadata": {},
   "outputs": [
    {
     "name": "stdout",
     "output_type": "stream",
     "text": [
      "the path:c:\\Users\\Asus\\.vscode\\lab6\n",
      "The subdirecories and files:['builtin.ipynb', 'dirandfiles.ipynb']\n"
     ]
    }
   ],
   "source": [
    "import os\n",
    "loc=os.getcwd()\n",
    "print(f\"the path:{loc}\")\n",
    "print(f'The subdirecories and files:{os.listdir(loc)}')\n"
   ]
  },
  {
   "cell_type": "code",
   "execution_count": 12,
   "metadata": {},
   "outputs": [
    {
     "name": "stdout",
     "output_type": "stream",
     "text": [
      "the \"c:\\Users\\Asus\\.vscode\\lab6\"  exist\n",
      "its readable\n",
      "its writeable\n",
      "its executable\n"
     ]
    }
   ],
   "source": [
    "import os\n",
    "def check():\n",
    "    path=os.getcwd()\n",
    "    if  os.path.exists(path):\n",
    "        print(f'the \"{path}\"  exist')\n",
    "       \n",
    "    if os.access(path,os.R_OK):\n",
    "        print(\"its readable\")\n",
    "    else:\n",
    "       print(\"its not readable\") \n",
    "    if os.access(path,os.W_OK):\n",
    "        print(\"its writeable\")\n",
    "    else:\n",
    "       print(\"its not writeable\")\n",
    "    if os.access(path,os.X_OK):\n",
    "        print(\"its executable\")\n",
    "    else:\n",
    "       print(\"its not executable\")\n",
    "\n",
    "check()\n",
    "       \n",
    "\n",
    "    "
   ]
  },
  {
   "cell_type": "code",
   "execution_count": 15,
   "metadata": {},
   "outputs": [
    {
     "name": "stdout",
     "output_type": "stream",
     "text": [
      "the 'c:\\Users\\Asus\\.vscode\\lab6' exists\n",
      "the directory portion is 'c:\\Users\\Asus\\.vscode\\lab6'\n",
      "the files portion is '['builtin.ipynb', 'dirandfiles.ipynb']'\n"
     ]
    }
   ],
   "source": [
    "import os\n",
    "def exist():\n",
    "    path=os.getcwd()\n",
    "    if os.path.exists(path):\n",
    "        print(f\"the '{path}' exists\")\n",
    "    print(f\"the directory portion is '{path}'\")\n",
    "    print(f\"the files portion is '{os.listdir(path)}'\")\n",
    "exist()"
   ]
  },
  {
   "cell_type": "code",
   "execution_count": 17,
   "metadata": {},
   "outputs": [
    {
     "name": "stdout",
     "output_type": "stream",
     "text": [
      "5\n"
     ]
    }
   ],
   "source": [
    "with open(r'C:\\Users\\Asus\\.vscode\\lab6\\file.txt','r') as file:\n",
    " x=len(file.readlines())\n",
    " print(x)"
   ]
  },
  {
   "cell_type": "code",
   "execution_count": 18,
   "metadata": {},
   "outputs": [],
   "source": [
    "mlist=['a','a','a','b']\n",
    "with open(r'C:\\Users\\Asus\\.vscode\\lab6\\file.txt','w') as file:\n",
    "    for i in mlist:\n",
    "        file.write(i+'/n')\n",
    "file.close()"
   ]
  },
  {
   "cell_type": "code",
   "execution_count": 19,
   "metadata": {},
   "outputs": [],
   "source": [
    "import string\n",
    "def gen():\n",
    "    for letter in string.ascii_uppercase:\n",
    "     with open(f\"{letter}.txt\",'w') as file:\n",
    "        file.write(f'{letter}.txt')\n",
    "gen()"
   ]
  },
  {
   "cell_type": "code",
   "execution_count": 22,
   "metadata": {},
   "outputs": [],
   "source": [
    "with open(r\"C:\\Users\\Asus\\.vscode\\lab6\\file.txt\",'r') as file1 , open(r\"C:\\Users\\Asus\\.vscode\\lab6\\A.txt\",'w') as f2:\n",
    "    f2.write(file1.read())"
   ]
  },
  {
   "cell_type": "code",
   "execution_count": 25,
   "metadata": {},
   "outputs": [
    {
     "name": "stdout",
     "output_type": "stream",
     "text": [
      "the path exists\n"
     ]
    }
   ],
   "source": [
    "import os\n",
    "path=r\"C:\\Users\\Asus\\.vscode\\lab6\\O.txt\"\n",
    "if os.path.exists(path):\n",
    "    print(\"the path exists\")\n",
    "    os.remove(path)\n",
    "\n"
   ]
  }
 ],
 "metadata": {
  "kernelspec": {
   "display_name": "Python 3",
   "language": "python",
   "name": "python3"
  },
  "language_info": {
   "codemirror_mode": {
    "name": "ipython",
    "version": 3
   },
   "file_extension": ".py",
   "mimetype": "text/x-python",
   "name": "python",
   "nbconvert_exporter": "python",
   "pygments_lexer": "ipython3",
   "version": "3.11.9"
  }
 },
 "nbformat": 4,
 "nbformat_minor": 2
}
